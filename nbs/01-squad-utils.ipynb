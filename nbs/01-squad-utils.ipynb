{
 "cells": [
  {
   "cell_type": "code",
   "execution_count": 1,
   "metadata": {},
   "outputs": [],
   "source": [
    "# default_exp squad_utils"
   ]
  },
  {
   "cell_type": "markdown",
   "metadata": {},
   "source": [
    "### Create dataset in SQUAD format\n",
    "> Create json files for question answering "
   ]
  },
  {
   "cell_type": "code",
   "execution_count": 2,
   "metadata": {},
   "outputs": [],
   "source": [
    "#export\n",
    "from fastai.core import *"
   ]
  },
  {
   "cell_type": "markdown",
   "metadata": {},
   "source": [
    "Here is sentiment extraction dataset with `text`, `selected_text` and `sentiment` given. This problem can also be formulated as a question answering problem. We wil consider `text` as `context`, `sentiment` as `question`, and `selected_text` as answer."
   ]
  },
  {
   "cell_type": "code",
   "execution_count": 6,
   "metadata": {},
   "outputs": [],
   "source": [
    "data_path = Path(\"../data/\")"
   ]
  },
  {
   "cell_type": "code",
   "execution_count": 82,
   "metadata": {},
   "outputs": [],
   "source": [
    "train_df = pd.read_csv(data_path/'train.csv')\n",
    "train_df = train_df.dropna().reset_index(drop=True)\n",
    "test_df = pd.read_csv(data_path/'test.csv')"
   ]
  },
  {
   "cell_type": "code",
   "execution_count": 83,
   "metadata": {},
   "outputs": [
    {
     "data": {
      "text/html": [
       "<div>\n",
       "<style scoped>\n",
       "    .dataframe tbody tr th:only-of-type {\n",
       "        vertical-align: middle;\n",
       "    }\n",
       "\n",
       "    .dataframe tbody tr th {\n",
       "        vertical-align: top;\n",
       "    }\n",
       "\n",
       "    .dataframe thead th {\n",
       "        text-align: right;\n",
       "    }\n",
       "</style>\n",
       "<table border=\"1\" class=\"dataframe\">\n",
       "  <thead>\n",
       "    <tr style=\"text-align: right;\">\n",
       "      <th></th>\n",
       "      <th>textID</th>\n",
       "      <th>text</th>\n",
       "      <th>selected_text</th>\n",
       "      <th>sentiment</th>\n",
       "    </tr>\n",
       "  </thead>\n",
       "  <tbody>\n",
       "    <tr>\n",
       "      <th>0</th>\n",
       "      <td>cb774db0d1</td>\n",
       "      <td>I`d have responded, if I were going</td>\n",
       "      <td>I`d have responded, if I were going</td>\n",
       "      <td>neutral</td>\n",
       "    </tr>\n",
       "    <tr>\n",
       "      <th>1</th>\n",
       "      <td>549e992a42</td>\n",
       "      <td>Sooo SAD I will miss you here in San Diego!!!</td>\n",
       "      <td>Sooo SAD</td>\n",
       "      <td>negative</td>\n",
       "    </tr>\n",
       "  </tbody>\n",
       "</table>\n",
       "</div>"
      ],
      "text/plain": [
       "       textID                                            text  \\\n",
       "0  cb774db0d1             I`d have responded, if I were going   \n",
       "1  549e992a42   Sooo SAD I will miss you here in San Diego!!!   \n",
       "\n",
       "                         selected_text sentiment  \n",
       "0  I`d have responded, if I were going   neutral  \n",
       "1                             Sooo SAD  negative  "
      ]
     },
     "execution_count": 83,
     "metadata": {},
     "output_type": "execute_result"
    }
   ],
   "source": [
    "train_df.head(2)"
   ]
  },
  {
   "cell_type": "code",
   "execution_count": 84,
   "metadata": {},
   "outputs": [
    {
     "data": {
      "text/html": [
       "<div>\n",
       "<style scoped>\n",
       "    .dataframe tbody tr th:only-of-type {\n",
       "        vertical-align: middle;\n",
       "    }\n",
       "\n",
       "    .dataframe tbody tr th {\n",
       "        vertical-align: top;\n",
       "    }\n",
       "\n",
       "    .dataframe thead th {\n",
       "        text-align: right;\n",
       "    }\n",
       "</style>\n",
       "<table border=\"1\" class=\"dataframe\">\n",
       "  <thead>\n",
       "    <tr style=\"text-align: right;\">\n",
       "      <th></th>\n",
       "      <th>textID</th>\n",
       "      <th>text</th>\n",
       "      <th>sentiment</th>\n",
       "    </tr>\n",
       "  </thead>\n",
       "  <tbody>\n",
       "    <tr>\n",
       "      <th>0</th>\n",
       "      <td>f87dea47db</td>\n",
       "      <td>Last session of the day  http://twitpic.com/67ezh</td>\n",
       "      <td>neutral</td>\n",
       "    </tr>\n",
       "    <tr>\n",
       "      <th>1</th>\n",
       "      <td>96d74cb729</td>\n",
       "      <td>Shanghai is also really exciting (precisely -...</td>\n",
       "      <td>positive</td>\n",
       "    </tr>\n",
       "  </tbody>\n",
       "</table>\n",
       "</div>"
      ],
      "text/plain": [
       "       textID                                               text sentiment\n",
       "0  f87dea47db  Last session of the day  http://twitpic.com/67ezh   neutral\n",
       "1  96d74cb729   Shanghai is also really exciting (precisely -...  positive"
      ]
     },
     "execution_count": 84,
     "metadata": {},
     "output_type": "execute_result"
    }
   ],
   "source": [
    "test_df.head(2)"
   ]
  },
  {
   "cell_type": "markdown",
   "metadata": {},
   "source": [
    "The following is how a [SQUAD](https://rajpurkar.github.io/SQuAD-explorer/) data sample looks like."
   ]
  },
  {
   "cell_type": "code",
   "execution_count": 48,
   "metadata": {},
   "outputs": [],
   "source": [
    "#hide\n",
    "squad_sample = {\n",
    "    \"version\": \"v2.0\",\n",
    "    \"data\": [\n",
    "        {\n",
    "            \"title\": \"Beyonc\\u00e9\",\n",
    "            \"paragraphs\": [\n",
    "                {\n",
    "                    \"qas\": [\n",
    "                        {\n",
    "                            \"question\": \"When did Beyonce start becoming popular?\",\n",
    "                            \"id\": \"56be85543aeaaa14008c9063\",\n",
    "                            \"answers\": [\n",
    "                                {\n",
    "                                    \"text\": \"in the late 1990s\",\n",
    "                                    \"answer_start\": 269\n",
    "                                }\n",
    "                            ],\n",
    "                            \"is_impossible\": False\n",
    "                        }\n",
    "                    ],\n",
    "                    \"context\": \"Beyonc\\u00e9 Giselle Knowles-Carter (/bi\\u02d0\\u02c8j\\u0252nse\\u026a/ bee-YON-say) (born September 4, 1981) is an American singer, songwriter, record producer and actress. Born and raised in Houston, Texas, she performed in various singing and dancing competitions as a child, and rose to fame in the late 1990s as lead singer of R&B girl-group Destiny's Child. Managed by her father, Mathew Knowles, the group became one of the world's best-selling girl groups of all time. Their hiatus saw the release of Beyonc\\u00e9's debut album, Dangerously in Love (2003), which established her as a solo artist worldwide, earned five Grammy Awards and featured the Billboard Hot 100 number-one singles \\\"Crazy in Love\\\" and \\\"Baby Boy\\\".\"\n",
    "                }\n",
    "            ]\n",
    "        }\n",
    "    ]\n",
    "}"
   ]
  },
  {
   "cell_type": "code",
   "execution_count": 49,
   "metadata": {},
   "outputs": [
    {
     "data": {
      "text/plain": [
       "{'version': 'v2.0',\n",
       " 'data': [{'title': 'Beyoncé',\n",
       "   'paragraphs': [{'qas': [{'question': 'When did Beyonce start becoming popular?',\n",
       "       'id': '56be85543aeaaa14008c9063',\n",
       "       'answers': [{'text': 'in the late 1990s', 'answer_start': 269}],\n",
       "       'is_impossible': False}],\n",
       "     'context': 'Beyoncé Giselle Knowles-Carter (/biːˈjɒnseɪ/ bee-YON-say) (born September 4, 1981) is an American singer, songwriter, record producer and actress. Born and raised in Houston, Texas, she performed in various singing and dancing competitions as a child, and rose to fame in the late 1990s as lead singer of R&B girl-group Destiny\\'s Child. Managed by her father, Mathew Knowles, the group became one of the world\\'s best-selling girl groups of all time. Their hiatus saw the release of Beyoncé\\'s debut album, Dangerously in Love (2003), which established her as a solo artist worldwide, earned five Grammy Awards and featured the Billboard Hot 100 number-one singles \"Crazy in Love\" and \"Baby Boy\".'}]}]}"
      ]
     },
     "execution_count": 49,
     "metadata": {},
     "output_type": "execute_result"
    }
   ],
   "source": [
    "squad_sample"
   ]
  },
  {
   "cell_type": "code",
   "execution_count": 50,
   "metadata": {},
   "outputs": [
    {
     "data": {
      "text/plain": [
       "('7cad826aa8',\n",
       " ' Ive been wanting 2 but will be gone 4 2 mo. & have to close my shops!',\n",
       " 'Ive been wanting 2 but will be gone 4 2 mo. & have to close my shops!',\n",
       " 'neutral')"
      ]
     },
     "execution_count": 50,
     "metadata": {},
     "output_type": "execute_result"
    }
   ],
   "source": [
    "row = train_df.iloc[np.random.choice(range(len(train_df)))]\n",
    "text_id = row['textID']\n",
    "context = row['text']\n",
    "answer = row['selected_text']\n",
    "question = row['sentiment']\n",
    "text_id, context, answer, question"
   ]
  },
  {
   "cell_type": "code",
   "execution_count": 51,
   "metadata": {},
   "outputs": [],
   "source": [
    "#export\n",
    "def get_answer_start(context, answer):\n",
    "    len_a = len(answer)\n",
    "    for i, _ in enumerate(context):\n",
    "        if context[i:i+len_a] == answer: return i\n",
    "    raise Exception(\"No overlapping segment found\")"
   ]
  },
  {
   "cell_type": "code",
   "execution_count": 52,
   "metadata": {},
   "outputs": [],
   "source": [
    "# test\n",
    "start_idx = get_answer_start(context, answer)\n",
    "assert context[start_idx:start_idx+len(answer)] == answer"
   ]
  },
  {
   "cell_type": "code",
   "execution_count": 53,
   "metadata": {},
   "outputs": [],
   "source": [
    "#export\n",
    "def generate_qas_dict(text_id, context, answer, question, impossible=False):\n",
    "    qas_dict = {}\n",
    "    qas_dict['question'] = question\n",
    "    qas_dict['id'] = text_id\n",
    "    qas_dict['is_impossible'] = impossible\n",
    "    \n",
    "    if answer is None: qas_dict['answers'] = []\n",
    "    else: \n",
    "        answer_start = get_answer_start(context, answer)\n",
    "        qas_dict['answers'] = [{\"text\":answer, \"answer_start\":answer_start}]\n",
    "    return qas_dict"
   ]
  },
  {
   "cell_type": "code",
   "execution_count": 54,
   "metadata": {},
   "outputs": [
    {
     "data": {
      "text/plain": [
       "{'question': 'neutral',\n",
       " 'id': '7cad826aa8',\n",
       " 'is_impossible': False,\n",
       " 'answers': [{'text': 'Ive been wanting 2 but will be gone 4 2 mo. & have to close my shops!',\n",
       "   'answer_start': 1}]}"
      ]
     },
     "execution_count": 54,
     "metadata": {},
     "output_type": "execute_result"
    }
   ],
   "source": [
    "generate_qas_dict(text_id, context, answer, question)"
   ]
  },
  {
   "cell_type": "code",
   "execution_count": 58,
   "metadata": {},
   "outputs": [],
   "source": [
    "#export\n",
    "def create_squad_from_df(df):\n",
    "    data_dicts = []\n",
    "    for _, row in df.iterrows():\n",
    "        text_id = row['textID']\n",
    "        context = row['text']\n",
    "        answer =  row['selected_text'] if 'selected_text' in row else None\n",
    "        question = row['sentiment']\n",
    "\n",
    "        qas_dict = generate_qas_dict(text_id, context, answer, question)\n",
    "        data_dict = {\"paragraphs\" : [{\"qas\" : [qas_dict], \"context\":context}]}\n",
    "        data_dict['title'] = text_id\n",
    "        data_dicts.append(data_dict)\n",
    "    return {\"version\": \"v2.0\", \"data\": data_dicts}"
   ]
  },
  {
   "cell_type": "code",
   "execution_count": 64,
   "metadata": {},
   "outputs": [],
   "source": [
    "train_squad_dict = create_squad_from_df(train_df)"
   ]
  },
  {
   "cell_type": "code",
   "execution_count": 65,
   "metadata": {},
   "outputs": [],
   "source": [
    "os.makedirs(\"../squad_data\", exist_ok=True)"
   ]
  },
  {
   "cell_type": "code",
   "execution_count": 66,
   "metadata": {},
   "outputs": [],
   "source": [
    "#export\n",
    "def save_dict_as_json(d, fname):\n",
    "    with open(fname, \"w\") as f: f.write(json.dumps(d))"
   ]
  },
  {
   "cell_type": "code",
   "execution_count": 67,
   "metadata": {},
   "outputs": [],
   "source": [
    "save_dict_as_json(train_squad_dict, \"../squad_data/train_squad_data.json\")"
   ]
  },
  {
   "cell_type": "code",
   "execution_count": 69,
   "metadata": {},
   "outputs": [],
   "source": [
    "#export\n",
    "def read_json_as_dict(fname):\n",
    "    return json.loads(open(fname).read())"
   ]
  },
  {
   "cell_type": "code",
   "execution_count": 70,
   "metadata": {},
   "outputs": [],
   "source": [
    "train_squad_dict = read_json_as_dict(\"../squad_data/train_squad_data.json\")"
   ]
  },
  {
   "cell_type": "code",
   "execution_count": 73,
   "metadata": {},
   "outputs": [
    {
     "data": {
      "text/plain": [
       "{'paragraphs': [{'qas': [{'question': 'neutral',\n",
       "     'id': '1c779efb57',\n",
       "     'is_impossible': False,\n",
       "     'answers': [{'text': '_of_the_dead I met a stranger just 10 min ago. He was stalking me at the store',\n",
       "       'answer_start': 0}]}],\n",
       "   'context': '_of_the_dead I met a stranger just 10 min ago. He was stalking me at the store'}],\n",
       " 'title': '1c779efb57'}"
      ]
     },
     "execution_count": 73,
     "metadata": {},
     "output_type": "execute_result"
    }
   ],
   "source": [
    "np.random.choice(train_squad_dict['data'])"
   ]
  },
  {
   "cell_type": "markdown",
   "metadata": {},
   "source": [
    "### Create KFold Stratified Data"
   ]
  },
  {
   "cell_type": "code",
   "execution_count": 75,
   "metadata": {},
   "outputs": [],
   "source": [
    "from sklearn.model_selection import StratifiedKFold"
   ]
  },
  {
   "cell_type": "code",
   "execution_count": 76,
   "metadata": {},
   "outputs": [],
   "source": [
    "skf = StratifiedKFold(n_splits=5,shuffle=True,random_state=42)"
   ]
  },
  {
   "cell_type": "code",
   "execution_count": 79,
   "metadata": {},
   "outputs": [
    {
     "data": {
      "text/plain": [
       "[PosixPath('../squad_data/train_squad_data.json')]"
      ]
     },
     "execution_count": 79,
     "metadata": {},
     "output_type": "execute_result"
    }
   ],
   "source": [
    "SQUAD_DATA_PATH = Path(\"../squad_data/\")\n",
    "SQUAD_DATA_PATH.ls()"
   ]
  },
  {
   "cell_type": "code",
   "execution_count": 80,
   "metadata": {},
   "outputs": [],
   "source": [
    "for foldnum,(trn_idx, val_idx) in enumerate(skf.split(train_df, train_df.sentiment.values)):\n",
    "    trn_fold_df = train_df.iloc[trn_idx]\n",
    "    val_fold_df = train_df.iloc[val_idx]\n",
    "    train_squad_dict = create_squad_from_df(trn_fold_df)\n",
    "    valid_squad_dict = create_squad_from_df(val_fold_df)\n",
    "    save_dict_as_json(train_squad_dict, SQUAD_DATA_PATH/f\"train_squad_data_{foldnum}.json\")\n",
    "    save_dict_as_json(valid_squad_dict, SQUAD_DATA_PATH/f\"valid_squad_data_{foldnum}.json\")"
   ]
  },
  {
   "cell_type": "code",
   "execution_count": 108,
   "metadata": {},
   "outputs": [
    {
     "data": {
      "text/plain": [
       "(21984, 5496)"
      ]
     },
     "execution_count": 108,
     "metadata": {},
     "output_type": "execute_result"
    }
   ],
   "source": [
    "len(train_squad_dict['data']), len(valid_squad_dict['data'])"
   ]
  },
  {
   "cell_type": "code",
   "execution_count": 85,
   "metadata": {},
   "outputs": [],
   "source": [
    "test_squad_dict =  create_squad_from_df(test_df)\n",
    "save_dict_as_json(test_squad_dict, SQUAD_DATA_PATH/f\"test_squad_data.json\")"
   ]
  },
  {
   "cell_type": "markdown",
   "metadata": {},
   "source": [
    "### Check json files"
   ]
  },
  {
   "cell_type": "code",
   "execution_count": 109,
   "metadata": {},
   "outputs": [],
   "source": [
    "i = 0\n",
    "val_ids = []\n",
    "for i in range(5):\n",
    "    val_dict = read_json_as_dict(SQUAD_DATA_PATH/f\"valid_squad_data_{i}.json\")\n",
    "    val_ids.append(set(map(lambda o:o['paragraphs'][0]['qas'][0]['id'], val_dict['data'])))"
   ]
  },
  {
   "cell_type": "code",
   "execution_count": 111,
   "metadata": {},
   "outputs": [
    {
     "name": "stdout",
     "output_type": "stream",
     "text": [
      "5496\n",
      "5496\n",
      "5496\n",
      "5496\n",
      "5496\n"
     ]
    }
   ],
   "source": [
    "for ids in val_ids: print(len(ids))"
   ]
  },
  {
   "cell_type": "code",
   "execution_count": 121,
   "metadata": {},
   "outputs": [],
   "source": [
    "# all validation ids are unique across files\n",
    "u = set.intersection(*val_ids)\n",
    "assert len(u) == 0"
   ]
  },
  {
   "cell_type": "markdown",
   "metadata": {},
   "source": [
    "### export"
   ]
  },
  {
   "cell_type": "code",
   "execution_count": 122,
   "metadata": {},
   "outputs": [
    {
     "name": "stdout",
     "output_type": "stream",
     "text": [
      "Converted 00_core.ipynb.\n",
      "Converted 01-squad-utils.ipynb.\n"
     ]
    }
   ],
   "source": [
    "from nbdev.export import notebook2script\n",
    "notebook2script()"
   ]
  },
  {
   "cell_type": "code",
   "execution_count": null,
   "metadata": {},
   "outputs": [],
   "source": []
  }
 ],
 "metadata": {
  "kernelspec": {
   "display_name": "Python [conda env:tse] *",
   "language": "python",
   "name": "conda-env-tse-py"
  },
  "language_info": {
   "codemirror_mode": {
    "name": "ipython",
    "version": 3
   },
   "file_extension": ".py",
   "mimetype": "text/x-python",
   "name": "python",
   "nbconvert_exporter": "python",
   "pygments_lexer": "ipython3",
   "version": "3.7.7"
  }
 },
 "nbformat": 4,
 "nbformat_minor": 2
}
