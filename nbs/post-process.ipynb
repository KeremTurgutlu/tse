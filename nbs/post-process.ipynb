{
 "cells": [
  {
   "cell_type": "code",
   "execution_count": null,
   "metadata": {},
   "outputs": [],
   "source": [
    "from fastai.core import *"
   ]
  },
  {
   "cell_type": "code",
   "execution_count": null,
   "metadata": {},
   "outputs": [],
   "source": [
    "test_df = pd.read_csv(\"../data/test.csv\")\n",
    "sub_df = pd.read_csv(\"../data/submission.csv\")"
   ]
  },
  {
   "cell_type": "code",
   "execution_count": null,
   "metadata": {},
   "outputs": [],
   "source": [
    "test_df['selected_text'] = sub_df['selected_text']"
   ]
  },
  {
   "cell_type": "code",
   "execution_count": null,
   "metadata": {},
   "outputs": [
    {
     "data": {
      "text/html": [
       "<div>\n",
       "<style scoped>\n",
       "    .dataframe tbody tr th:only-of-type {\n",
       "        vertical-align: middle;\n",
       "    }\n",
       "\n",
       "    .dataframe tbody tr th {\n",
       "        vertical-align: top;\n",
       "    }\n",
       "\n",
       "    .dataframe thead th {\n",
       "        text-align: right;\n",
       "    }\n",
       "</style>\n",
       "<table border=\"1\" class=\"dataframe\">\n",
       "  <thead>\n",
       "    <tr style=\"text-align: right;\">\n",
       "      <th></th>\n",
       "      <th>textID</th>\n",
       "      <th>text</th>\n",
       "      <th>sentiment</th>\n",
       "      <th>selected_text</th>\n",
       "    </tr>\n",
       "  </thead>\n",
       "  <tbody>\n",
       "    <tr>\n",
       "      <th>0</th>\n",
       "      <td>f87dea47db</td>\n",
       "      <td>Last session of the day  http://twitpic.com/67ezh</td>\n",
       "      <td>neutral</td>\n",
       "      <td>Last session of the day  http://twitpic.com/67ezh</td>\n",
       "    </tr>\n",
       "    <tr>\n",
       "      <th>1</th>\n",
       "      <td>96d74cb729</td>\n",
       "      <td>Shanghai is also really exciting (precisely -...</td>\n",
       "      <td>positive</td>\n",
       "      <td>exciting</td>\n",
       "    </tr>\n",
       "    <tr>\n",
       "      <th>2</th>\n",
       "      <td>eee518ae67</td>\n",
       "      <td>Recession hit Veronique Branquinho, she has to...</td>\n",
       "      <td>negative</td>\n",
       "      <td>shame!</td>\n",
       "    </tr>\n",
       "    <tr>\n",
       "      <th>3</th>\n",
       "      <td>01082688c6</td>\n",
       "      <td>happy bday!</td>\n",
       "      <td>positive</td>\n",
       "      <td>happy bday!</td>\n",
       "    </tr>\n",
       "    <tr>\n",
       "      <th>4</th>\n",
       "      <td>33987a8ee5</td>\n",
       "      <td>http://twitpic.com/4w75p - I like it!!</td>\n",
       "      <td>positive</td>\n",
       "      <td>I like it!!</td>\n",
       "    </tr>\n",
       "    <tr>\n",
       "      <th>...</th>\n",
       "      <td>...</td>\n",
       "      <td>...</td>\n",
       "      <td>...</td>\n",
       "      <td>...</td>\n",
       "    </tr>\n",
       "    <tr>\n",
       "      <th>3529</th>\n",
       "      <td>e5f0e6ef4b</td>\n",
       "      <td>its at 3 am, im very tired but i can`t sleep  ...</td>\n",
       "      <td>negative</td>\n",
       "      <td>tired</td>\n",
       "    </tr>\n",
       "    <tr>\n",
       "      <th>3530</th>\n",
       "      <td>416863ce47</td>\n",
       "      <td>All alone in this old house again.  Thanks for...</td>\n",
       "      <td>positive</td>\n",
       "      <td>Thanks</td>\n",
       "    </tr>\n",
       "    <tr>\n",
       "      <th>3531</th>\n",
       "      <td>6332da480c</td>\n",
       "      <td>I know what you mean. My little dog is sinkin...</td>\n",
       "      <td>negative</td>\n",
       "      <td>depression...</td>\n",
       "    </tr>\n",
       "    <tr>\n",
       "      <th>3532</th>\n",
       "      <td>df1baec676</td>\n",
       "      <td>_sutra what is your next youtube video gonna b...</td>\n",
       "      <td>positive</td>\n",
       "      <td>I love your videos!</td>\n",
       "    </tr>\n",
       "    <tr>\n",
       "      <th>3533</th>\n",
       "      <td>469e15c5a8</td>\n",
       "      <td>http://twitpic.com/4woj2 - omgssh  ang cute n...</td>\n",
       "      <td>positive</td>\n",
       "      <td>cute ng bby.!</td>\n",
       "    </tr>\n",
       "  </tbody>\n",
       "</table>\n",
       "<p>3534 rows × 4 columns</p>\n",
       "</div>"
      ],
      "text/plain": [
       "          textID                                               text sentiment  \\\n",
       "0     f87dea47db  Last session of the day  http://twitpic.com/67ezh   neutral   \n",
       "1     96d74cb729   Shanghai is also really exciting (precisely -...  positive   \n",
       "2     eee518ae67  Recession hit Veronique Branquinho, she has to...  negative   \n",
       "3     01082688c6                                        happy bday!  positive   \n",
       "4     33987a8ee5             http://twitpic.com/4w75p - I like it!!  positive   \n",
       "...          ...                                                ...       ...   \n",
       "3529  e5f0e6ef4b  its at 3 am, im very tired but i can`t sleep  ...  negative   \n",
       "3530  416863ce47  All alone in this old house again.  Thanks for...  positive   \n",
       "3531  6332da480c   I know what you mean. My little dog is sinkin...  negative   \n",
       "3532  df1baec676  _sutra what is your next youtube video gonna b...  positive   \n",
       "3533  469e15c5a8   http://twitpic.com/4woj2 - omgssh  ang cute n...  positive   \n",
       "\n",
       "                                          selected_text  \n",
       "0     Last session of the day  http://twitpic.com/67ezh  \n",
       "1                                             exciting   \n",
       "2                                                shame!  \n",
       "3                                           happy bday!  \n",
       "4                                           I like it!!  \n",
       "...                                                 ...  \n",
       "3529                                             tired   \n",
       "3530                                            Thanks   \n",
       "3531                                     depression...   \n",
       "3532                                I love your videos!  \n",
       "3533                                      cute ng bby.!  \n",
       "\n",
       "[3534 rows x 4 columns]"
      ]
     },
     "execution_count": null,
     "metadata": {},
     "output_type": "execute_result"
    }
   ],
   "source": [
    "test_df"
   ]
  },
  {
   "cell_type": "code",
   "execution_count": null,
   "metadata": {},
   "outputs": [],
   "source": [
    "for text, selected_text, sent in zip(test_df['text'], test_df['selected_text'], test_df['sentiment']):\n",
    "    if sent != 'neutral':\n",
    "\n",
    "        i = text.find(selected_text)\n",
    "        selected_text_set = set(selected_text.split())\n",
    "        text_set = set(text[i:].split())\n",
    "        \n",
    "        for w in selected_text_set:\n",
    "            if w not in text_set:\n",
    "                break"
   ]
  },
  {
   "cell_type": "code",
   "execution_count": null,
   "metadata": {},
   "outputs": [
    {
     "data": {
      "text/plain": [
       "{'bby.!', 'cute', 'ng'}"
      ]
     },
     "execution_count": null,
     "metadata": {},
     "output_type": "execute_result"
    }
   ],
   "source": [
    "selected_text_set"
   ]
  },
  {
   "cell_type": "code",
   "execution_count": null,
   "metadata": {},
   "outputs": [
    {
     "data": {
      "text/plain": [
       "{'bby.!', 'cute', 'ng'}"
      ]
     },
     "execution_count": null,
     "metadata": {},
     "output_type": "execute_result"
    }
   ],
   "source": [
    "text_set"
   ]
  },
  {
   "cell_type": "code",
   "execution_count": null,
   "metadata": {},
   "outputs": [],
   "source": []
  },
  {
   "cell_type": "code",
   "execution_count": null,
   "metadata": {},
   "outputs": [
    {
     "data": {
      "text/plain": [
       "0.6969960000000001"
      ]
     },
     "execution_count": null,
     "metadata": {},
     "output_type": "execute_result"
    }
   ],
   "source": [
    "(0.698436 + 0.692732 + 0.691364 + 0.695767 + 0.706681) /5"
   ]
  },
  {
   "cell_type": "markdown",
   "metadata": {},
   "source": [
    "### backward"
   ]
  },
  {
   "cell_type": "code",
   "execution_count": null,
   "metadata": {},
   "outputs": [],
   "source": [
    "from fastai.vision import *"
   ]
  },
  {
   "cell_type": "code",
   "execution_count": null,
   "metadata": {},
   "outputs": [],
   "source": [
    "y = 4\n",
    "x = 2"
   ]
  },
  {
   "cell_type": "code",
   "execution_count": null,
   "metadata": {},
   "outputs": [],
   "source": [
    "# y = x**2\n",
    "x1 = torch.randn(100)\n",
    "y1 = x1**2 "
   ]
  },
  {
   "cell_type": "code",
   "execution_count": null,
   "metadata": {},
   "outputs": [],
   "source": [
    "# y = -(x-5)**2 \n",
    "x2 = torch.randn(100)+2\n",
    "y2 = (-(x2-2)**2 ) + 5 "
   ]
  },
  {
   "cell_type": "code",
   "execution_count": null,
   "metadata": {},
   "outputs": [
    {
     "data": {
      "text/plain": [
       "<matplotlib.collections.PathCollection at 0x13c628e10>"
      ]
     },
     "execution_count": null,
     "metadata": {},
     "output_type": "execute_result"
    },
    {
     "data": {
      "image/png": "[encoded data removed]",
      "text/plain": [
       "<Figure size 288x288 with 1 Axes>"
      ]
     },
     "metadata": {
      "needs_background": "light"
     },
     "output_type": "display_data"
    }
   ],
   "source": [
    "axes = subplots(1,1)\n",
    "axes[0][0].scatter(x1,y1)\n",
    "axes[0][0].scatter(x2,y2)"
   ]
  },
  {
   "cell_type": "code",
   "execution_count": null,
   "metadata": {},
   "outputs": [],
   "source": [
    "def loss_fn(y_hat, y): return torch.sqrt(((y_hat - y)**2).mean())"
   ]
  },
  {
   "cell_type": "code",
   "execution_count": null,
   "metadata": {},
   "outputs": [],
   "source": [
    "class SimpleNet(Module):\n",
    "    def __init__(self):\n",
    "        self.lin0 = nn.Linear(1,1)\n",
    "        self.lin1 = nn.Linear(1,1)\n",
    "        self.lin2 = nn.Linear(1,1)\n",
    "    \n",
    "    def forward(self,x): \n",
    "        return self.lin2(F.relu(self.lin1(F.relu(self.lin0(x)))))"
   ]
  },
  {
   "cell_type": "code",
   "execution_count": null,
   "metadata": {},
   "outputs": [],
   "source": [
    "model = SimpleNet()"
   ]
  },
  {
   "cell_type": "code",
   "execution_count": null,
   "metadata": {},
   "outputs": [],
   "source": [
    "xs = torch.cat([x1,x2]).view(-1,1)\n",
    "ys = torch.cat([y1,y2]).view(-1,1)"
   ]
  },
  {
   "cell_type": "code",
   "execution_count": null,
   "metadata": {},
   "outputs": [
    {
     "name": "stdout",
     "output_type": "stream",
     "text": [
      "2.026779890060425\n",
      "2.026779890060425\n",
      "2.026779890060425\n",
      "2.026779890060425\n",
      "2.026779890060425\n",
      "2.0267796516418457\n",
      "2.026779890060425\n",
      "2.026779890060425\n",
      "2.026779890060425\n",
      "2.026779890060425\n",
      "2.026779890060425\n",
      "2.026779890060425\n",
      "2.0267796516418457\n",
      "2.0267796516418457\n",
      "2.0267796516418457\n",
      "2.026779890060425\n",
      "2.026779890060425\n",
      "2.026779890060425\n",
      "2.026779890060425\n",
      "2.0267796516418457\n",
      "2.026779890060425\n",
      "2.0267796516418457\n",
      "2.026779890060425\n",
      "2.026779890060425\n",
      "2.0267796516418457\n",
      "2.0267796516418457\n",
      "2.026779890060425\n",
      "2.0267796516418457\n",
      "2.026779890060425\n",
      "2.026779890060425\n",
      "2.026779890060425\n",
      "2.0267796516418457\n",
      "2.0267796516418457\n",
      "2.0267796516418457\n",
      "2.0267796516418457\n",
      "2.0267796516418457\n",
      "2.0267796516418457\n",
      "2.0267796516418457\n",
      "2.0267796516418457\n",
      "2.0267796516418457\n",
      "2.026779890060425\n",
      "2.0267796516418457\n",
      "2.026779890060425\n",
      "2.026779890060425\n",
      "2.026779890060425\n",
      "2.0267796516418457\n",
      "2.0267796516418457\n",
      "2.0267796516418457\n",
      "2.026779890060425\n",
      "2.0267796516418457\n",
      "2.026779890060425\n",
      "2.0267796516418457\n",
      "2.0267796516418457\n",
      "2.0267796516418457\n",
      "2.0267796516418457\n",
      "2.0267796516418457\n",
      "2.0267796516418457\n",
      "2.0267796516418457\n",
      "2.0267796516418457\n",
      "2.0267796516418457\n",
      "2.026779890060425\n",
      "2.0267796516418457\n",
      "2.0267796516418457\n",
      "2.0267796516418457\n",
      "2.0267796516418457\n",
      "2.0267796516418457\n",
      "2.0267796516418457\n",
      "2.0267796516418457\n",
      "2.0267796516418457\n",
      "2.0267796516418457\n",
      "2.0267796516418457\n",
      "2.0267794132232666\n",
      "2.0267796516418457\n",
      "2.0267796516418457\n",
      "2.0267796516418457\n",
      "2.0267796516418457\n",
      "2.0267796516418457\n",
      "2.0267796516418457\n",
      "2.0267796516418457\n",
      "2.0267796516418457\n",
      "2.0267796516418457\n",
      "2.0267796516418457\n",
      "2.0267796516418457\n",
      "2.0267796516418457\n",
      "2.0267796516418457\n",
      "2.0267796516418457\n",
      "2.0267796516418457\n",
      "2.0267796516418457\n",
      "2.0267796516418457\n",
      "2.0267796516418457\n",
      "2.0267796516418457\n",
      "2.0267796516418457\n",
      "2.0267796516418457\n",
      "2.0267796516418457\n",
      "2.0267796516418457\n",
      "2.0267796516418457\n",
      "2.0267796516418457\n",
      "2.0267796516418457\n",
      "2.0267796516418457\n",
      "2.0267796516418457\n"
     ]
    }
   ],
   "source": [
    "lr = 0.001\n",
    "for i in range(100):\n",
    "    loss = loss_fn(model(xs), ys)\n",
    "    print(loss.item())\n",
    "    loss.backward()\n",
    "    for p in model.parameters(): p.data.add_(-lr*p.grad)\n",
    "    for p in model.parameters(): p.grad.zero_()"
   ]
  },
  {
   "cell_type": "code",
   "execution_count": null,
   "metadata": {},
   "outputs": [],
   "source": [
    "yhats = model(xs).view(-1).detach()"
   ]
  },
  {
   "cell_type": "code",
   "execution_count": null,
   "metadata": {},
   "outputs": [
    {
     "data": {
      "text/plain": [
       "<matplotlib.collections.PathCollection at 0x13c628dd0>"
      ]
     },
     "execution_count": null,
     "metadata": {},
     "output_type": "execute_result"
    },
    {
     "data": {
      "image/png": "[encoded data removed]",
      "text/plain": [
       "<Figure size 432x288 with 1 Axes>"
      ]
     },
     "metadata": {
      "needs_background": "light"
     },
     "output_type": "display_data"
    }
   ],
   "source": [
    "plt.scatter(xs, yhats)"
   ]
  },
  {
   "cell_type": "code",
   "execution_count": null,
   "metadata": {},
   "outputs": [],
   "source": []
  },
  {
   "cell_type": "code",
   "execution_count": null,
   "metadata": {},
   "outputs": [],
   "source": []
  },
  {
   "cell_type": "code",
   "execution_count": null,
   "metadata": {},
   "outputs": [],
   "source": []
  },
  {
   "cell_type": "code",
   "execution_count": null,
   "metadata": {},
   "outputs": [],
   "source": []
  },
  {
   "cell_type": "code",
   "execution_count": null,
   "metadata": {},
   "outputs": [],
   "source": []
  },
  {
   "cell_type": "code",
   "execution_count": null,
   "metadata": {},
   "outputs": [],
   "source": []
  }
 ],
 "metadata": {
  "kernelspec": {
   "display_name": "Python [conda env:tse] *",
   "language": "python",
   "name": "conda-env-tse-py"
  }
 },
 "nbformat": 4,
 "nbformat_minor": 4
}
